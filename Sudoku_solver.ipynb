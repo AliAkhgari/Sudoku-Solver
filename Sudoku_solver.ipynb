{
 "cells": [
  {
   "cell_type": "markdown",
   "metadata": {},
   "source": [
    "# <center> Hands-On : Genetic </center>\n",
    "##  In this project, we want to implement **Genetic Algorithm** to solve sudoku.\n"
   ]
  },
  {
   "cell_type": "markdown",
   "metadata": {},
   "source": [
    "***\n",
    "## What is Genetic Algorithm?\n",
    "#### **Genetic Algorithm(GA)** is a search technique used in computing to find true or approximate solutions to optimization and search problems.<br> The basic idea here is to simulate natural selections, where the population is composed of candidate solutions.<br>The main focus is on evolving a population from which strong and diverse candidates can emerge via mutation and crossover."
   ]
  },
  {
   "cell_type": "markdown",
   "metadata": {},
   "source": [
    "***\n",
    "### We are going to:\n",
    "- Defining the terms of **Gene** and **Chromosome**\n",
    "- Constructing the initial population\n",
    "- Defining and implementing **Fitness Function**\n",
    "- Implementing **Crossover** and **Mutation**\n",
    "- Running the algorithm to solve sudoku"
   ]
  },
  {
   "cell_type": "markdown",
   "metadata": {},
   "source": [
    "***\n",
    "## Importing the requierd libraries"
   ]
  },
  {
   "cell_type": "code",
   "execution_count": 1,
   "metadata": {},
   "outputs": [],
   "source": [
    "import numpy as np\n",
    "import random # for generating random numbers\n",
    "import copy"
   ]
  },
  {
   "cell_type": "markdown",
   "metadata": {},
   "source": [
    "***\n",
    "## Reading the inputs from the file\n",
    "#### You only need to give the name of your test file which is in the SampleSudoku folder.\n",
    "The format of a sample sudoku table:(0 means empty)<br>\n",
    "8 0 6 0 0 0 1 0 7<br>\n",
    "0 0 0 6 0 2 0 0 0<br>\n",
    "0 5 3 0 0 4 8 0 6<br>\n",
    "7 0 4 8 0 0 6 3 0<br>\n",
    "0 0 0 0 0 0 0 9 0<br>\n",
    "1 0 0 5 0 0 4 0 0<br>\n",
    "0 0 1 2 0 0 7 0 9<br>\n",
    "2 0 0 0 9 6 0 0 0<br>\n",
    "0 7 0 0 1 0 0 8 0<br>\n"
   ]
  },
  {
   "cell_type": "code",
   "execution_count": 2,
   "metadata": {},
   "outputs": [
    {
     "name": "stdout",
     "output_type": "stream",
     "text": [
      "test1.txt\n"
     ]
    }
   ],
   "source": [
    "table = [[]for i in range(9)]\n",
    "\n",
    "def read_input(file_name):\n",
    "    lines = []\n",
    "    with open(file_name) as test:\n",
    "        while (line := test.readline().rstrip()):\n",
    "            lines.append(line)\n",
    "    return lines\n",
    "\n",
    "filename = input()\n",
    "path = 'SampleSudoku/' + filename\n",
    "test = read_input(path)\n",
    "\n",
    "for i in range(9):\n",
    "    inp = test[i].split(' ')\n",
    "    inp = list(map(int, inp))\n",
    "    table[i] = (inp)\n",
    "# print(table)"
   ]
  },
  {
   "cell_type": "markdown",
   "metadata": {},
   "source": [
    "***\n",
    "Here we changed the 0 cells with an unique negative number."
   ]
  },
  {
   "cell_type": "code",
   "execution_count": 3,
   "metadata": {},
   "outputs": [],
   "source": [
    "cnt = -1\n",
    "for i in range(9):\n",
    "    for j in range(9):\n",
    "        if table[i][j] == 0:\n",
    "            table[i][j] = cnt\n",
    "            cnt -= 1\n",
    "# table"
   ]
  },
  {
   "cell_type": "markdown",
   "metadata": {},
   "source": [
    "***\n",
    "## What is Chromosome?\n",
    "#### **Chromosome** is a sample solution to the given problem.Here we consider an sudoku table as a chromosome.\n",
    "## What is Gene?\n",
    "#### **Gene** is one element position of a chromosome. Here we consider a gene as an empty cell in our sudoku table.\n",
    "***\n",
    "## Fitness Function\n",
    "#### The fitness function simply defined is a function which takes a candidate solution to the problem as input and produces as output how **good** the solution is with respect to the problem in consideration.\n",
    "## Fitness Function Implementing\n",
    "####  In sudoku, the objective is to fill a 9×9 grid with digits so that each column, each row, and each of the nine 3×3 subgrids that compose the grid contain all of the digits from 1 to 9.<br>So our fitness function should be related to the number of unique values in each column, each row, and each block.<br>Here we considered the fitness function as the number of unique values in each column, each row, and each block divided by 9 and then we multiply these numbers.<br> So the fitness function of the solution is $ 9^3 = 729 $.\n",
    "***\n",
    "## Implementing Chromosome\n",
    "#### We have a class for modeling the actions that can be done on a chromosome.\n",
    "- create_rows_cols_blocks(): This method creates the rows, columns, and blocks of a sudoku table to check the conditions.\n",
    "- calc_fitness(): This method calculates the fitness function of a chromosome. \n"
   ]
  },
  {
   "cell_type": "code",
   "execution_count": 4,
   "metadata": {},
   "outputs": [],
   "source": [
    "class Chromosome:\n",
    "    def __init__(self, chromosome_):\n",
    "        self.data = np.array(chromosome_)\n",
    "        self.fitness = None\n",
    "    \n",
    "    def create_rows_cols_blocks(self, mode='P'):\n",
    "        rows_cols_blocks = []\n",
    "        for i in range(9):\n",
    "            rows_cols_blocks.append(self.data[i])\n",
    "\n",
    "        for i in range(9):\n",
    "            col = []\n",
    "            for j in range(9):\n",
    "                col.append(self.data[j][i])\n",
    "            rows_cols_blocks.append(col)\n",
    "\n",
    "        block = []\n",
    "        for i in range(9):\n",
    "            block.append(self.data[i][:3])\n",
    "        for i in range(9):\n",
    "            block.append(self.data[i][3:6])\n",
    "        for i in range(9):\n",
    "            block.append(self.data[i][6:9])\n",
    "\n",
    "        square = [[]for i in range(9)]\n",
    "        for i in range(9):\n",
    "            for j in range(3):\n",
    "                for k in range(3):\n",
    "                    square[i].append(block[i*3:(i+1)*3][j][k])\n",
    "            rows_cols_blocks.append(square[i])\n",
    "        \n",
    "        rows_cols_blocks = np.array(rows_cols_blocks)\n",
    "        if mode == 'N':\n",
    "            return rows_cols_blocks\n",
    "        rows_cols_blocks[rows_cols_blocks < 0] *= -1\n",
    "        return rows_cols_blocks\n",
    "        \n",
    "    def calc_fitness(self):\n",
    "        rows_cols_blocks = self.create_rows_cols_blocks()\n",
    "        row_dup_sum, col_dup_sum, block_dup_sum = 0, 0, 0\n",
    "        \n",
    "        for i in range(9):\n",
    "            unique, counts = np.unique(rows_cols_blocks[i], return_counts=True)\n",
    "            row_dup_sum += len(counts)/9\n",
    "        \n",
    "        for i in range(9, 18):\n",
    "            unique, counts = np.unique(rows_cols_blocks[i], return_counts=True)\n",
    "            col_dup_sum += len(counts)/9\n",
    "        \n",
    "        for i in range(18, 27):\n",
    "            unique, counts = np.unique(rows_cols_blocks[i], return_counts=True)\n",
    "            block_dup_sum += len(counts)/9\n",
    "            \n",
    "        self.fitness = row_dup_sum * col_dup_sum * block_dup_sum\n",
    "        "
   ]
  },
  {
   "cell_type": "code",
   "execution_count": null,
   "metadata": {},
   "outputs": [],
   "source": []
  },
  {
   "cell_type": "markdown",
   "metadata": {},
   "source": [
    "***\n",
    "## Population\n",
    "#### **Population** is a subset of solutions in the current generation. It can also be defined as a set of chromosomes.\n",
    "***\n",
    "## Implementing the Population\n",
    "#### We have a class for modeling the population and how to select the population for crossover.\n",
    "- create_init_population(): Creates the initial population that is composed of chromosomes which are constructed completely with random genes.\n",
    "- calc_fitnesses(): Calculates the fitness function of each chromosome and check if a chromosome is the answer.\n",
    "- sort_based_on_fitness(): Sort all of the chromosomes based on their fitness.\n",
    "- give_rank_to_population(): In this method we rank the population according to fitness and then base selection probabilities on rank.\n"
   ]
  },
  {
   "cell_type": "code",
   "execution_count": 5,
   "metadata": {},
   "outputs": [],
   "source": [
    "class Population:\n",
    "    def __init__(self, population_size_):\n",
    "        self.population = []\n",
    "        self.population_size = population_size_\n",
    "    \n",
    "    def create_init_population(self, init_chromosome):\n",
    "        for i in range(self.population_size):\n",
    "            self.population.append(copy.deepcopy(init_chromosome))\n",
    "        for i in range(self.population_size):\n",
    "            for j in range(1, -1*cnt):\n",
    "                self.population[i].data[self.population[i].data == -1*j] = random.randint(-9, -1)\n",
    "    \n",
    "    def calc_fitnesses(self):\n",
    "        for ch in self.population:\n",
    "            ch.calc_fitness()\n",
    "            if ch.fitness == pow(9, 3):\n",
    "                return ch\n",
    "        return None\n",
    "    \n",
    "    def sort_based_on_fitness(self):\n",
    "        self.population = sorted(self.population, key=lambda ch: ch.fitness)# sort by fitness\n",
    "        \n",
    "    def give_rank_to_population(self):\n",
    "        rank = np.arange(1,self.population_size+1,1)\n",
    "        prob = np.true_divide(rank, sum(rank))\n",
    "        self.population = np.random.choice(a=self.population, size=self.population_size, p=prob)\n",
    "            "
   ]
  },
  {
   "cell_type": "markdown",
   "metadata": {},
   "source": [
    "***\n",
    "## Crossover\n",
    "#### In genetic algorithms and evolutionary computation, crossover, also called recombination, is a genetic operator used to combine the genetic information of two parents to generate new offspring. Crossover is usually applied in a GA with a high probability $(p_c)$ .<br> For crossovering the parents, we specify a random point in each row، then we put the first part from the first parent and the second part from the second parent to produce a new child.<br><br>[See this link for a better understanding!](https://www.geeksforgeeks.org/crossover-in-genetic-algorithm) <br>  "
   ]
  },
  {
   "cell_type": "code",
   "execution_count": 6,
   "metadata": {},
   "outputs": [],
   "source": [
    "def crossover(parent1, parent2, P_c=1):\n",
    "    par1 = copy.deepcopy(parent1.data)\n",
    "    par2 = copy.deepcopy(parent2.data)\n",
    "    r = random.uniform(0, 1)\n",
    "    \n",
    "    if P_c > r:\n",
    "        for p1, p2 in zip(par1, par2):\n",
    "            point = random.randint(0, 8)\n",
    "            for i in range(len(p1)):\n",
    "                if p1[i] < 0:\n",
    "                    if i <= point:\n",
    "                        p1[i], p2[i] = p2[i], p1[i]\n",
    "\n",
    "    child1 = Chromosome(par1)\n",
    "    child2 = Chromosome(par2)\n",
    "    return child1, child2"
   ]
  },
  {
   "cell_type": "markdown",
   "metadata": {},
   "source": [
    "***\n",
    "## Mutation\n",
    "#### Mutation can be defined as a small random tweak in the chromosome, to get a new solution. It is used to maintain and introduce diversity in the genetic population and is usually applied with a low probability $(p_m)$.<br> For mutating each empty cell(gene), we go through each row, column, and block to identify a list of numbers that can be placed in that cell. Then we choose a number from that list randomly.<br> "
   ]
  },
  {
   "cell_type": "code",
   "execution_count": 7,
   "metadata": {
    "code_folding": []
   },
   "outputs": [],
   "source": [
    "def mutation(chromosome, P_m=1, add_random=False):\n",
    "    r = random.uniform(0, 1)\n",
    "    if P_m < r:\n",
    "        return\n",
    "    \n",
    "    rows_cols_blocks = chromosome.create_rows_cols_blocks(mode='N')\n",
    "    possibles = []\n",
    "    for i in rows_cols_blocks:\n",
    "        POSSIBLE_NUMS = {1, 2, 3, 4, 5, 6, 7, 8, 9}\n",
    "        for j in i:\n",
    "            if j in POSSIBLE_NUMS:\n",
    "                POSSIBLE_NUMS.remove(j)\n",
    "            if -j in POSSIBLE_NUMS:\n",
    "                POSSIBLE_NUMS.remove(-j)\n",
    "                \n",
    "        possibles.append(POSSIBLE_NUMS)\n",
    "    cell_poss = {}\n",
    "    for i in range(len(chromosome.data)):\n",
    "        for j in range(len(chromosome.data[i])):\n",
    "            if chromosome.data[i][j] < 0:\n",
    "                poss = {1, 2, 3, 4, 5, 6, 7, 8, 9}\n",
    "                poss = poss.intersection(possibles[i])\n",
    "                poss = poss.intersection(possibles[9+j])\n",
    "                if (i < 3) and (j < 3):\n",
    "                    poss = poss.intersection(possibles[18])\n",
    "                if (2 < i < 6) and (j < 3):\n",
    "                    poss = poss.intersection(possibles[19])\n",
    "                if (5 < i < 9) and (j < 3):\n",
    "                    poss = poss.intersection(possibles[20])\n",
    "                if (i < 3) and (2 < j < 6):\n",
    "                    poss = poss.intersection(possibles[21])\n",
    "                if (2 < i < 6) and (2 < j < 6):\n",
    "                    poss = poss.intersection(possibles[22])\n",
    "                if (5 < i < 9) and (2 < j < 6):\n",
    "                    poss = poss.intersection(possibles[23])\n",
    "                if (i < 3) and (5 < j < 9):\n",
    "                    poss = poss.intersection(possibles[24])\n",
    "                if (2 < i < 6) and (5 < j < 9):\n",
    "                    poss = poss.intersection(possibles[25])\n",
    "                if (5 < i < 9) and (5 < j < 9):\n",
    "                    poss = poss.intersection(possibles[26])\n",
    "                \n",
    "                random_number = []\n",
    "                random_number.append(random.randint(1, 9))\n",
    "                if add_random:\n",
    "                    poss = poss.intersection(random_number)\n",
    "                cell_poss[chromosome.data[i][j]] = poss\n",
    "                li = list(poss)\n",
    "                if len(li) > 0:\n",
    "                    index = random.randint(1, len(li))\n",
    "                    chromosome.data[i][j] = -li[index-1]\n",
    "                    possibles[i].remove(li[index-1])            "
   ]
  },
  {
   "cell_type": "markdown",
   "metadata": {},
   "source": [
    "***\n",
    "## Running The Gentic Algorithm\n",
    "#### First, we initialized the population size and then we created the first population randomly."
   ]
  },
  {
   "cell_type": "code",
   "execution_count": 8,
   "metadata": {},
   "outputs": [],
   "source": [
    "POPULATION_SIZE = 1000\n",
    "init_ch = Chromosome(table)\n",
    "init_pop = Population(POPULATION_SIZE)\n",
    "init_pop.create_init_population(init_ch)\n",
    "init_pop.calc_fitnesses()\n",
    "init_pop.sort_based_on_fitness()"
   ]
  },
  {
   "cell_type": "markdown",
   "metadata": {},
   "source": [
    "#### We run the main algorithm here that is consists of:\n",
    "We iteratively go through these steps:\n",
    "- Selecting parents for crossover based on chromosomes ranks\n",
    "- Crossovering each pair of parents with the probability of $(p_c)$\n",
    "- Mutating each children with the probabilty of $(p_m)$\n",
    "- Calculating fitness for each chromosomes for this new generation\n",
    "- Sorting the new generation based on their fitness\n",
    "- If the fitness of a chromosome equals to $ 9^3 $, it means that we have reached the answer."
   ]
  },
  {
   "cell_type": "code",
   "execution_count": 9,
   "metadata": {},
   "outputs": [],
   "source": [
    "def genetic(init_pop, generation_size):\n",
    "    generation = []\n",
    "    generation.append(init_pop)\n",
    "    for k in range(generation_size):\n",
    "        i = 0\n",
    "        childs = []\n",
    "        generation[k].give_rank_to_population()\n",
    "        while(i < POPULATION_SIZE):\n",
    "            ch1, ch2 = crossover(generation[k].population[i], generation[k].population[i+1], 0.9)\n",
    "            childs.append(ch1)\n",
    "            childs.append(ch2)\n",
    "            i += 2\n",
    "\n",
    "        for j in childs:\n",
    "            mutation(j, 1 - k/generation_size)\n",
    "            \n",
    "        pop = Population(POPULATION_SIZE)\n",
    "        pop.population = childs\n",
    "        solution = pop.calc_fitnesses()\n",
    "        if solution != None:\n",
    "            print(f\"Generation {k} -->  fitness : {solution.fitness}\")\n",
    "            print(f\"The answer found in generation {k}\")\n",
    "            return solution\n",
    "\n",
    "        pop.sort_based_on_fitness()\n",
    "        generation.append(pop)\n",
    "        print(f\"Generation {k} -->  fitness : {pop.population[-1].fitness}\")"
   ]
  },
  {
   "cell_type": "code",
   "execution_count": 10,
   "metadata": {
    "scrolled": true
   },
   "outputs": [
    {
     "name": "stdout",
     "output_type": "stream",
     "text": [
      "Generation 0 -->  fitness : 424.60905349794234\n",
      "Generation 1 -->  fitness : 511.9012345679012\n",
      "Generation 2 -->  fitness : 540.4444444444446\n",
      "Generation 3 -->  fitness : 586.4197530864199\n",
      "Generation 4 -->  fitness : 610.0850480109739\n",
      "Generation 5 -->  fitness : 626.1399176954735\n",
      "Generation 6 -->  fitness : 667.5445816186558\n",
      "Generation 7 -->  fitness : 684.6666666666667\n",
      "Generation 8 -->  fitness : 693.5528120713307\n",
      "Generation 9 -->  fitness : 711.0\n",
      "Generation 10 -->  fitness : 729.0\n",
      "The answer found in generation 10\n",
      "CPU times: user 10.8 s, sys: 108 ms, total: 10.9 s\n",
      "Wall time: 10.9 s\n"
     ]
    }
   ],
   "source": [
    "%%time\n",
    "GENERATION_SIZE = 100\n",
    "solution = genetic(init_pop, GENERATION_SIZE)"
   ]
  },
  {
   "cell_type": "markdown",
   "metadata": {},
   "source": [
    "***\n",
    "## Printing the solution"
   ]
  },
  {
   "cell_type": "code",
   "execution_count": 11,
   "metadata": {},
   "outputs": [
    {
     "name": "stdout",
     "output_type": "stream",
     "text": [
      "8   2   6   9   3   5   1   4   7   \n",
      "4   1   7   6   8   2   9   5   3   \n",
      "9   5   3   1   7   4   8   2   6   \n",
      "7   9   4   8   2   1   6   3   5   \n",
      "5   6   8   3   4   7   2   9   1   \n",
      "1   3   2   5   6   9   4   7   8   \n",
      "3   4   1   2   5   8   7   6   9   \n",
      "2   8   5   7   9   6   3   1   4   \n",
      "6   7   9   4   1   3   5   8   2   \n"
     ]
    }
   ],
   "source": [
    "solution.data[solution.data < 0] *= -1\n",
    "for i in solution.data:\n",
    "    for j in i:\n",
    "        print(j, end='   ')\n",
    "    print()"
   ]
  },
  {
   "cell_type": "markdown",
   "metadata": {},
   "source": [
    "***\n",
    "#### **1. The method used for selecting chromosomes to crossover:**\n",
    "We give each chromosome a probability based on their fitness, for example, the chromosome which has the smallest fitness will get 1/(1+2 +...+ PopulationSize) and the chromosome which has the biggest fitness, will get PopulationSize/(1+2 +...+ PopulationSize). Then I choose a chromosome based on these probabilities.\n",
    "####  - **Why I used this method:**\n",
    "With this method, the probability of choosing chromosomes with better fitness is more than choosing them randomly. Also we have the diversity too."
   ]
  },
  {
   "cell_type": "markdown",
   "metadata": {},
   "source": [
    "***\n",
    "#### **2. The reason for choosing the fitness function I used:**\n",
    "Here I considered the fitness function as the number of unique values in each column, each row, and each block divided by 9 and then we multiply these numbers.<br> So the fitness function of the solution is $ 9^3 = 729 $. <br>\n",
    "Because in the solution, we should have unique values in each row, column, and block, therefore with this fitness function, we can define how much a chromosome is near to the solution."
   ]
  },
  {
   "cell_type": "markdown",
   "metadata": {},
   "source": [
    "***\n",
    "#### **3. The effects of Crossover and Mutation functions:**\n",
    "**Crossover** is used to create new solutions from the population's genetic information. So with Crossover, we can have a new population with better chromosomes. (To get closer to the answer)<br>\n",
    "**Mutation** is used to give diversity into the population, means that you avoid premature convergence on a local maximum or minimum. \n",
    "#### - **The probability of Crossover and Mutation and the reason for choosing them:**\n",
    "**Crossover**: We have considered $p_c$ as the constant value of 0.9, which means that we crossover the 90 percent of the population each time.<br>**Reason:** With this crossover rate it can be gauranteed that we have generations that are very diverse.<br>\n",
    "**Mutation**: We have considered $p_m$ a dynamic value that start with the value of 1 and decreases after producing every a new generation.<br>**Reason:** The mutation I used is a logical way to solve sudoku, so if the more chromosomes we mutate, the better the results are.\n"
   ]
  },
  {
   "cell_type": "markdown",
   "metadata": {},
   "source": [
    "***\n",
    "#### **4. The problem of getting stuck in local minimum or maximum :**\n",
    "- **Reason:** Having similar chromosomes\n",
    "- **Problems:** Because we produce similar chromosomes, it's hard to get out of that local  minimum or maximum\n",
    "- **Solutions:**\n",
    "    1. Mutation: With mutation we can get close to a different local minimum or maximum.\n",
    "    2. Bigger popualtion size: Bigger population size will cause more variety."
   ]
  },
  {
   "cell_type": "markdown",
   "metadata": {},
   "source": [
    "***\n",
    "## Conclusion\n",
    "#### Genetic algorithms are good at taking large search spaces and navigating them, looking for optimal combinations of things.<br>Among the benefits of this algorithm, the following can be mentioned:\n",
    "- easy to understand\n",
    "- we have always get an answer\n",
    "- we can speed up it by changing its hyperparameters\n",
    "- with the conditions of the problem, we can optimize our algorithm\n"
   ]
  }
 ],
 "metadata": {
  "kernelspec": {
   "display_name": "Python 3",
   "language": "python",
   "name": "python3"
  },
  "language_info": {
   "codemirror_mode": {
    "name": "ipython",
    "version": 3
   },
   "file_extension": ".py",
   "mimetype": "text/x-python",
   "name": "python",
   "nbconvert_exporter": "python",
   "pygments_lexer": "ipython3",
   "version": "3.8.5"
  }
 },
 "nbformat": 4,
 "nbformat_minor": 4
}
